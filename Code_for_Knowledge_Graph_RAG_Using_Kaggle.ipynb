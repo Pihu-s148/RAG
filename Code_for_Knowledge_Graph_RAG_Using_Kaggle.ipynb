{
  "nbformat": 4,
  "nbformat_minor": 0,
  "metadata": {
    "colab": {
      "provenance": []
    },
    "kernelspec": {
      "name": "python3",
      "display_name": "Python 3"
    },
    "language_info": {
      "name": "python"
    }
  },
  "cells": [
    {
      "cell_type": "markdown",
      "source": [
        "\n",
        "### Step 1: Install Required Libraries\n",
        "\n",
        "First, ensure you have the necessary libraries installed. In Google Colab, you can run shell commands by prefixing them with `!`."
      ],
      "metadata": {
        "id": "EcFUQyv47uWs"
      }
    },
    {
      "cell_type": "code",
      "source": [
        "!pip install httpx==0.23.0"
      ],
      "metadata": {
        "id": "xhcJmAusskLQ"
      },
      "execution_count": null,
      "outputs": []
    },
    {
      "cell_type": "code",
      "source": [
        "!pip install llama-index-llms-openai"
      ],
      "metadata": {
        "id": "ORh1oXnIbQ0g"
      },
      "execution_count": null,
      "outputs": []
    },
    {
      "cell_type": "code",
      "source": [
        "!pip install openai langchain-community llama_index kagglehub pymupdf\n",
        "!pip install llama_index pyvis Ipython langchain\n",
        "!pip install llama-index-llms-huggingface\n",
        "!pip install llama-index-embeddings-langchain\n",
        "!pip install -U langchain-openai"
      ],
      "metadata": {
        "id": "HsY8Ab3Q7ygr"
      },
      "execution_count": null,
      "outputs": []
    },
    {
      "cell_type": "markdown",
      "source": [
        "\n",
        "### Step 2:  **Import Libraries**\n",
        "\n",
        "Next, import the necessary libraries in your Python code."
      ],
      "metadata": {
        "id": "wRPeaTkK73bk"
      }
    },
    {
      "cell_type": "code",
      "source": [
        "# Enable Diagnostic Logging\n",
        "import logging\n",
        "import sys\n",
        "\n",
        "logging.basicConfig(stream=sys.stdout, level=logging.INFO)\n",
        "logging.getLogger().addHandler(logging.StreamHandler(stream=sys.stdout))"
      ],
      "metadata": {
        "id": "RUB16KpW7Aab"
      },
      "execution_count": null,
      "outputs": []
    },
    {
      "cell_type": "code",
      "source": [
        "# Import Required Dependencies\n",
        "from llama_index.core import SimpleDirectoryReader, KnowledgeGraphIndex, Settings, StorageContext\n",
        "from llama_index.core.graph_stores import SimpleGraphStore\n",
        "from llama_index.llms.openai import OpenAI\n",
        "from llama_index.embeddings.langchain import LangchainEmbedding\n",
        "from langchain.embeddings import OpenAIEmbeddings\n",
        "from llama_index.readers.file import PyMuPDFReader\n",
        "from pyvis.network import Network\n",
        "import kagglehub"
      ],
      "metadata": {
        "id": "MJG_pQJI77jT"
      },
      "execution_count": null,
      "outputs": []
    },
    {
      "cell_type": "markdown",
      "source": [
        "\n",
        "### Step 3:  **Import Kaggle Dataset**\n",
        "\n",
        "Next, import the necessary dataset in your Python code."
      ],
      "metadata": {
        "id": "xOpv34Fbkdg_"
      }
    },
    {
      "cell_type": "code",
      "source": [
        "# Download Dataset from Kaggle\n",
        "path = kagglehub.dataset_download(\"sajith4457/pdf-files\")\n",
        "print(\"Path to dataset files:\", path)\n",
        "\n",
        "# Function to Load Documents from a Directory\n",
        "def load_documents_from_directory(directory_path):\n",
        "    reader = PyMuPDFReader()\n",
        "    documents = []\n",
        "    for filename in os.listdir(directory_path):\n",
        "        file_path = os.path.join(directory_path, filename)\n",
        "        if filename.endswith(\".pdf\"):  # Process only PDF files\n",
        "            documents.extend(reader.load_data(file_path))\n",
        "    return documents\n",
        "\n",
        "# Load the PDF documents from the directory\n",
        "documents = load_documents_from_directory(path)\n"
      ],
      "metadata": {
        "colab": {
          "base_uri": "https://localhost:8080/"
        },
        "id": "Z8jsRlENi3nJ",
        "outputId": "c51a19c7-a2c7-4d8b-f06e-b22ac2b6b9d6"
      },
      "execution_count": null,
      "outputs": [
        {
          "output_type": "stream",
          "name": "stdout",
          "text": [
            "Warning: Looks like you're using an outdated `kagglehub` version, please consider updating (latest version: 0.3.5)\n",
            "Path to dataset files: /root/.cache/kagglehub/datasets/sajith4457/pdf-files/versions/1\n"
          ]
        }
      ]
    },
    {
      "cell_type": "markdown",
      "source": [
        "\n",
        "### Step 4:  **Import Open-API-Key**"
      ],
      "metadata": {
        "id": "8sCp5TqRkm4f"
      }
    },
    {
      "cell_type": "code",
      "source": [
        "import os\n",
        "os.environ[\"OPENAI_API_KEY\"] = \"Your-OPENAI-KEY\""
      ],
      "metadata": {
        "id": "XLkB0ETFdLB2"
      },
      "execution_count": null,
      "outputs": []
    },
    {
      "cell_type": "code",
      "source": [
        "# Setup LLM and Embedding Model\n",
        "llm = OpenAI(model=\"gpt-3.5-turbo\", temperature=0)\n",
        "openai_embed_model = OpenAIEmbeddings(openai_api_key=os.environ[\"OPENAI_API_KEY\"])\n",
        "embed_model = LangchainEmbedding(openai_embed_model)\n",
        "\n",
        "# Global Settings\n",
        "Settings.llm = llm\n",
        "Settings.chunk_size = 2048\n",
        "Settings.chunk_overlap = 150"
      ],
      "metadata": {
        "id": "jx2rGoVrkGGQ"
      },
      "execution_count": null,
      "outputs": []
    },
    {
      "cell_type": "markdown",
      "source": [
        "\n",
        "### Step 5: Create a Knowledge Graph"
      ],
      "metadata": {
        "id": "8SVj9QimF2iD"
      }
    },
    {
      "cell_type": "markdown",
      "source": [
        "![1_naZhhiKaw5C_qA7e4vWRvQ.webp](data:image/webp;base64,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)"
      ],
      "metadata": {
        "id": "BLA0L_M6mRQO"
      }
    },
    {
      "cell_type": "code",
      "source": [
        "# Setup Knowledge Graph Index\n",
        "def setup_knowledge_graph_index(documents):\n",
        "    graph_store = SimpleGraphStore()\n",
        "    storage_context = StorageContext.from_defaults(graph_store=graph_store)\n",
        "    index = KnowledgeGraphIndex.from_documents(\n",
        "        documents=documents,\n",
        "        storage_context=storage_context,\n",
        "        embed_model=embed_model,\n",
        "        include_embeddings=True,\n",
        "        max_triplets_per_chunk=10\n",
        "    )\n",
        "    return index\n",
        "\n",
        "# Create Knowledge Graph Index\n",
        "index = setup_knowledge_graph_index(documents)\n"
      ],
      "metadata": {
        "id": "b9xpot9oC7N1"
      },
      "execution_count": null,
      "outputs": []
    },
    {
      "cell_type": "markdown",
      "source": [
        "\n",
        "### Step 6: Query the Knowledge Graph\n"
      ],
      "metadata": {
        "id": "DL1VlPlHCast"
      }
    },
    {
      "cell_type": "code",
      "source": [
        "# Query the Knowledge Graph\n",
        "query = \"Tell me about DNA vaccines?\"\n",
        "query_engine = index.as_query_engine(\n",
        "    include_text=True,\n",
        "    response_mode=\"tree_summarize\",\n",
        "    embedding_mode=\"hybrid\",\n",
        "    similarity_top_k=5,\n",
        ")\n",
        "\n",
        "# Message template for the query\n",
        "message_template = f\"\"\"<|system|>Please check if the following pieces of context have any mention of the keywords provided in the Question. If not, then don't know the answer; just say that you don't know. Stop there. Please do not try to make up an answer.</s>\n",
        "<|user|>\n",
        "Question: {query}\n",
        "Helpful Answer:\n",
        "</s>\"\"\"\n",
        "\n",
        "# Generate the response\n",
        "response = query_engine.query(message_template)\n",
        "print(response.response.split(\"<|assistant|>\")[-1].strip())"
      ],
      "metadata": {
        "id": "SDNIwc_mCf11",
        "colab": {
          "base_uri": "https://localhost:8080/"
        },
        "outputId": "2bcc2dc9-fdad-4659-972d-a1601ad04f36"
      },
      "execution_count": null,
      "outputs": [
        {
          "output_type": "stream",
          "name": "stdout",
          "text": [
            "DNA vaccines can be defined as plasmids containing genes that can be expressed in mammalian cells. They have been shown to induce an efficient immune response and have proven to be effective in various preclinical models. DNA vaccines provide an alternative for both prevention and treatment of infectious diseases, including Chagas disease.\n"
          ]
        }
      ]
    },
    {
      "cell_type": "markdown",
      "source": [
        "\n",
        "### Explanation and Links\n",
        "\n",
        "1. **OpenAI**:\n",
        "\n",
        "   - [OpenAI API Documentation](https://beta.openai.com/docs/)\n",
        "   \n",
        "   - OpenAI provides powerful language models that can be used for various natural language processing tasks, including RAG."
      ],
      "metadata": {
        "id": "kjvMD1Y9I7tY"
      }
    }
  ]
}